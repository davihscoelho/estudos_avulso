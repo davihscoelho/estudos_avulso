{
 "cells": [
  {
   "cell_type": "code",
   "execution_count": null,
   "metadata": {},
   "outputs": [],
   "source": [
    "import pandas as pd"
   ]
  },
  {
   "cell_type": "code",
   "execution_count": null,
   "metadata": {},
   "outputs": [],
   "source": [
    "# def get_bolsa():\n",
    "  \n",
    "#   #gET THE aPP KEY\n",
    "#   with open(\"credentials/refinitv.json\") as f:\n",
    "#     info = json.load(f)\n",
    "#   APP_KEY = info[\"APP_KEY\"]    \n",
    "#   #print(APP_KEY)\n",
    "#   #Get the Datetime\n",
    "#   start_date = \"2013-01-01\"\n",
    "#   end_date = dt.datetime.strftime(dt.datetime.today(),\"%Y-%m-%d\")\n",
    "  \n",
    "#   rd.open_session(app_key=APP_KEY)\n",
    "#   instrumentos = [\".IFIX\",\".BVSP\",\".SP500\"]\n",
    "#   ts = pd.DataFrame()\n",
    "#   df = pd.DataFrame()\n",
    "#   for r in instrumentos:\n",
    "#     try:\n",
    "#         ts = ek.get_timeseries(r,'CLOSE',start_date=start_date,end_date=end_date,interval='daily')\n",
    "#         ts.rename(columns = {'CLOSE': r}, inplace = True)\n",
    "#         if len(ts):\n",
    "#             df = pd.concat([df, ts], axis=1)\n",
    "#         else:\n",
    "#             df = ts\n",
    "#     except:\n",
    "#         pass\n",
    "#   rd.close_session()"
   ]
  },
  {
   "cell_type": "code",
   "execution_count": null,
   "metadata": {},
   "outputs": [],
   "source": []
  }
 ],
 "metadata": {
  "kernelspec": {
   "display_name": "env",
   "language": "python",
   "name": "python3"
  },
  "language_info": {
   "name": "python",
   "version": "3.10.9"
  },
  "orig_nbformat": 4
 },
 "nbformat": 4,
 "nbformat_minor": 2
}
